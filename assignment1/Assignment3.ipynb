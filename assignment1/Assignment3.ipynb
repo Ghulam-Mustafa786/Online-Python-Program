{
 "cells": [
  {
   "cell_type": "code",
   "execution_count": 1,
   "id": "9afc3090",
   "metadata": {},
   "outputs": [
    {
     "name": "stdout",
     "output_type": "stream",
     "text": [
      "Twinkle, twinkle, little star, \n",
      "\tHow I wonder what you are! \n",
      "\t\tUp above the world so high, \n",
      "\t\tLike a diamond in the sky. \n",
      "Twinkle, twinkle, little star, \n",
      "\tHow I wonder what you are!\n"
     ]
    }
   ],
   "source": [
    "# wreite a program to print the following string in a specific format(see the output\n",
    "print(\"Twinkle, twinkle, little star, \\n\\tHow I wonder what you are! \\n\\t\\tUp above the world so high, \\n\\t\\tLike a diamond in the sky. \\nTwinkle, twinkle, little star, \\n\\tHow I wonder what you are!\")"
   ]
  },
  {
   "cell_type": "code",
   "execution_count": 3,
   "id": "476e7cf4",
   "metadata": {},
   "outputs": [
    {
     "name": "stdout",
     "output_type": "stream",
     "text": [
      "Input the radius of the circle : 1.1\n",
      "The area of the circle with radius 1.1 is: 3.8013271108436504\n"
     ]
    }
   ],
   "source": [
    "# writ a program which accept the radius of circle from the user and compute the area\n",
    "from math import pi\n",
    "r = float(input (\"Input the radius of the circle : \"))\n",
    "print (\"The area of the circle with radius \" + str(r) + \" is: \" + str(pi * r**2))"
   ]
  },
  {
   "cell_type": "code",
   "execution_count": 4,
   "id": "62c4c484",
   "metadata": {},
   "outputs": [
    {
     "name": "stdout",
     "output_type": "stream",
     "text": [
      "Python version\n",
      "3.8.8 (default, Apr 13 2021, 15:08:03) [MSC v.1916 64 bit (AMD64)]\n",
      "Version info.\n",
      "sys.version_info(major=3, minor=8, micro=8, releaselevel='final', serial=0)\n"
     ]
    }
   ],
   "source": [
    "# write a program to get the python version  you are using\n",
    "import sys\n",
    "print(\"Python version\")\n",
    "print (sys.version)\n",
    "print(\"Version info.\")\n",
    "print (sys.version_info)"
   ]
  },
  {
   "cell_type": "code",
   "execution_count": 8,
   "id": "16e5011a",
   "metadata": {},
   "outputs": [
    {
     "name": "stdout",
     "output_type": "stream",
     "text": [
      "Input your First Name : Ghulam\n",
      "Input your Last Name : Mustafa\n",
      "Hello  Ghulam Mustafa\n"
     ]
    }
   ],
   "source": [
    "# write a program which accepts the user's first name and last name and print them in  reserve order with a space between the\n",
    "fname = input(\"Input your First Name : \")\n",
    "lname = input(\"Input your Last Name : \")\n",
    "print (\"Hello  \" + fname + \" \" + lname)"
   ]
  },
  {
   "cell_type": "code",
   "execution_count": 10,
   "id": "657e240a",
   "metadata": {},
   "outputs": [
    {
     "name": "stdout",
     "output_type": "stream",
     "text": [
      "enter first number: 45\n",
      "enter second number: 65\n",
      "sum: 110\n"
     ]
    }
   ],
   "source": [
    "# write a program which takes two inputs from the user and print them addition \n",
    "a = int(input(\"enter first number: \"))\n",
    "b = int(input(\"enter second number: \"))\n",
    "sum = a + b;\n",
    "print(\"sum:\", sum)"
   ]
  },
  {
   "cell_type": "code",
   "execution_count": 12,
   "id": "0ce53d1a",
   "metadata": {},
   "outputs": [
    {
     "name": "stdout",
     "output_type": "stream",
     "text": [
      "Enter marks of the first subject: 97\n",
      "Enter marks of the second subject: 88\n",
      "Enter marks of the third subject: 91\n",
      "Enter marks of the fourth subject: 78\n",
      "Enter marks of the fifth subject: 85\n",
      "Grade: B\n"
     ]
    }
   ],
   "source": [
    "#Write a program which takes 5 inputs from the user for different subject's marks total it and generate marksheet using grade\n",
    "sub1=int(input(\"Enter marks of the first subject: \"))\n",
    "sub2=int(input(\"Enter marks of the second subject: \"))\n",
    "sub3=int(input(\"Enter marks of the third subject: \"))\n",
    "sub4=int(input(\"Enter marks of the fourth subject: \"))\n",
    "sub5=int(input(\"Enter marks of the fifth subject: \"))\n",
    "total=500;\n",
    "avg=(sub1+sub2+sub3+sub4+sub4)/5\n",
    "if(avg>=90 and avg<100):\n",
    "    print(\"Grade: A\")\n",
    "elif(avg>=80 and avg<90):\n",
    "    print(\"Grade: B\")\n",
    "elif(avg>=70 and avg<80):\n",
    "    print(\"Grade: C\")\n",
    "elif(avg>=60 and avg<70):\n",
    "    print(\"Grade: D\")\n",
    "else:\n",
    "    print(\"Grade: F\")"
   ]
  },
  {
   "cell_type": "code",
   "execution_count": 14,
   "id": "545486fb",
   "metadata": {},
   "outputs": [
    {
     "name": "stdout",
     "output_type": "stream",
     "text": [
      "Enter a number: 58\n",
      "58 is Even\n"
     ]
    }
   ],
   "source": [
    "#Write a program which take input from the user and identify that the given number is even or odd\n",
    "num = int(input(\"Enter a number: \"))\n",
    "if (num % 2) == 0:\n",
    "   print(\"{0} is Even\".format(num))\n",
    "else:\n",
    "   print(\"{0} is Odd\".format(num))"
   ]
  },
  {
   "cell_type": "code",
   "execution_count": 15,
   "id": "14438eba",
   "metadata": {},
   "outputs": [
    {
     "name": "stdout",
     "output_type": "stream",
     "text": [
      "Number of items in the list =  5\n"
     ]
    }
   ],
   "source": [
    "# write a program which print the length of the list\n",
    "ListName = [\"Hello\", \"Edureka\", 1, 2, 3]\n",
    "print (\"Number of items in the list = \", len(ListName))"
   ]
  },
  {
   "cell_type": "code",
   "execution_count": 1,
   "id": "0d01df36",
   "metadata": {},
   "outputs": [
    {
     "name": "stdout",
     "output_type": "stream",
     "text": [
      "sum of all elements in given list: 11\n",
      "sum of all elements in given list: 16\n",
      "sum of all elements in given list: 33\n",
      "sum of all elements in given list: 51\n",
      "sum of all elements in given list: 74\n"
     ]
    }
   ],
   "source": [
    "#write a program to sum of all numeric items in a list\n",
    "total=0\n",
    "list1 = [11, 5, 17, 18,23]\n",
    "for ele in range(0,len(list1)):\n",
    "    total =total + list1[ele]\n",
    "    print(\"sum of all elements in given list:\", total)"
   ]
  },
  {
   "cell_type": "code",
   "execution_count": 2,
   "id": "77dfd076",
   "metadata": {},
   "outputs": [
    {
     "name": "stdout",
     "output_type": "stream",
     "text": [
      "Largest element is: 99\n"
     ]
    }
   ],
   "source": [
    "# write a program to get the largest number from the numeric list\n",
    "list1 =[10, 20, 4, 45, 99]\n",
    "list1.sort()\n",
    "print(\"Largest element is:\", list1[-1])"
   ]
  },
  {
   "cell_type": "code",
   "execution_count": 5,
   "id": "108b101d",
   "metadata": {},
   "outputs": [],
   "source": [
    "# wrte a program thar prints out all the elements of the list that are less than 5\n",
    "def max_num_in_list(list):\n",
    "    max = list[0]\n",
    "    for a in list:\n",
    "        if  a > max:\n",
    "            max = a\n",
    "        return max\n",
    "    print(max_num_in_list([1, 2, -8, 0]));"
   ]
  },
  {
   "cell_type": "code",
   "execution_count": null,
   "id": "3c53be34",
   "metadata": {},
   "outputs": [],
   "source": []
  }
 ],
 "metadata": {
  "kernelspec": {
   "display_name": "Python 3",
   "language": "python",
   "name": "python3"
  },
  "language_info": {
   "codemirror_mode": {
    "name": "ipython",
    "version": 3
   },
   "file_extension": ".py",
   "mimetype": "text/x-python",
   "name": "python",
   "nbconvert_exporter": "python",
   "pygments_lexer": "ipython3",
   "version": "3.8.8"
  }
 },
 "nbformat": 4,
 "nbformat_minor": 5
}
